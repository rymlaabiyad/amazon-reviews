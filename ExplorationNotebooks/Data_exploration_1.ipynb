{
 "cells": [
  {
   "cell_type": "code",
   "execution_count": 4,
   "metadata": {},
   "outputs": [],
   "source": [
    "import pandas as pd \n",
    "import os\n",
    "import numpy as np\n",
    "\n",
    "path = '../data/'"
   ]
  },
  {
   "cell_type": "code",
   "execution_count": 5,
   "metadata": {},
   "outputs": [
    {
     "name": "stdout",
     "output_type": "stream",
     "text": [
      "<class 'pandas.core.frame.DataFrame'>\n",
      "RangeIndex: 194439 entries, 0 to 194438\n",
      "Data columns (total 9 columns):\n",
      "asin              194439 non-null object\n",
      "helpful           194439 non-null object\n",
      "overall           194439 non-null int64\n",
      "reviewText        194439 non-null object\n",
      "reviewTime        194439 non-null object\n",
      "reviewerID        194439 non-null object\n",
      "reviewerName      190920 non-null object\n",
      "summary           194439 non-null object\n",
      "unixReviewTime    194439 non-null int64\n",
      "dtypes: int64(2), object(7)\n",
      "memory usage: 13.4+ MB\n"
     ]
    }
   ],
   "source": [
    "df = pd.read_json(os.path.join(path + 'Cell_Phones_and_Accessories_5.json'), lines=True)\n",
    "df.info()"
   ]
  },
  {
   "cell_type": "code",
   "execution_count": 3,
   "metadata": {},
   "outputs": [
    {
     "data": {
      "text/html": [
       "<div>\n",
       "<style scoped>\n",
       "    .dataframe tbody tr th:only-of-type {\n",
       "        vertical-align: middle;\n",
       "    }\n",
       "\n",
       "    .dataframe tbody tr th {\n",
       "        vertical-align: top;\n",
       "    }\n",
       "\n",
       "    .dataframe thead th {\n",
       "        text-align: right;\n",
       "    }\n",
       "</style>\n",
       "<table border=\"1\" class=\"dataframe\">\n",
       "  <thead>\n",
       "    <tr style=\"text-align: right;\">\n",
       "      <th></th>\n",
       "      <th>asin</th>\n",
       "      <th>helpful</th>\n",
       "      <th>overall</th>\n",
       "      <th>reviewText</th>\n",
       "      <th>reviewTime</th>\n",
       "      <th>reviewerID</th>\n",
       "      <th>reviewerName</th>\n",
       "      <th>summary</th>\n",
       "      <th>unixReviewTime</th>\n",
       "    </tr>\n",
       "  </thead>\n",
       "  <tbody>\n",
       "    <tr>\n",
       "      <th>0</th>\n",
       "      <td>120401325X</td>\n",
       "      <td>[0, 0]</td>\n",
       "      <td>4</td>\n",
       "      <td>They look good and stick good! I just don't li...</td>\n",
       "      <td>05 21, 2014</td>\n",
       "      <td>A30TL5EWN6DFXT</td>\n",
       "      <td>christina</td>\n",
       "      <td>Looks Good</td>\n",
       "      <td>1400630400</td>\n",
       "    </tr>\n",
       "    <tr>\n",
       "      <th>1</th>\n",
       "      <td>120401325X</td>\n",
       "      <td>[0, 0]</td>\n",
       "      <td>5</td>\n",
       "      <td>These stickers work like the review says they ...</td>\n",
       "      <td>01 14, 2014</td>\n",
       "      <td>ASY55RVNIL0UD</td>\n",
       "      <td>emily l.</td>\n",
       "      <td>Really great product.</td>\n",
       "      <td>1389657600</td>\n",
       "    </tr>\n",
       "    <tr>\n",
       "      <th>2</th>\n",
       "      <td>120401325X</td>\n",
       "      <td>[0, 0]</td>\n",
       "      <td>5</td>\n",
       "      <td>These are awesome and make my phone look so st...</td>\n",
       "      <td>06 26, 2014</td>\n",
       "      <td>A2TMXE2AFO7ONB</td>\n",
       "      <td>Erica</td>\n",
       "      <td>LOVE LOVE LOVE</td>\n",
       "      <td>1403740800</td>\n",
       "    </tr>\n",
       "    <tr>\n",
       "      <th>3</th>\n",
       "      <td>120401325X</td>\n",
       "      <td>[4, 4]</td>\n",
       "      <td>4</td>\n",
       "      <td>Item arrived in great time and was in perfect ...</td>\n",
       "      <td>10 21, 2013</td>\n",
       "      <td>AWJ0WZQYMYFQ4</td>\n",
       "      <td>JM</td>\n",
       "      <td>Cute!</td>\n",
       "      <td>1382313600</td>\n",
       "    </tr>\n",
       "    <tr>\n",
       "      <th>4</th>\n",
       "      <td>120401325X</td>\n",
       "      <td>[2, 3]</td>\n",
       "      <td>5</td>\n",
       "      <td>awesome! stays on, and looks great. can be use...</td>\n",
       "      <td>02 3, 2013</td>\n",
       "      <td>ATX7CZYFXI1KW</td>\n",
       "      <td>patrice m rogoza</td>\n",
       "      <td>leopard home button sticker for iphone 4s</td>\n",
       "      <td>1359849600</td>\n",
       "    </tr>\n",
       "  </tbody>\n",
       "</table>\n",
       "</div>"
      ],
      "text/plain": [
       "         asin helpful  overall  \\\n",
       "0  120401325X  [0, 0]        4   \n",
       "1  120401325X  [0, 0]        5   \n",
       "2  120401325X  [0, 0]        5   \n",
       "3  120401325X  [4, 4]        4   \n",
       "4  120401325X  [2, 3]        5   \n",
       "\n",
       "                                          reviewText   reviewTime  \\\n",
       "0  They look good and stick good! I just don't li...  05 21, 2014   \n",
       "1  These stickers work like the review says they ...  01 14, 2014   \n",
       "2  These are awesome and make my phone look so st...  06 26, 2014   \n",
       "3  Item arrived in great time and was in perfect ...  10 21, 2013   \n",
       "4  awesome! stays on, and looks great. can be use...   02 3, 2013   \n",
       "\n",
       "       reviewerID      reviewerName  \\\n",
       "0  A30TL5EWN6DFXT         christina   \n",
       "1   ASY55RVNIL0UD          emily l.   \n",
       "2  A2TMXE2AFO7ONB             Erica   \n",
       "3   AWJ0WZQYMYFQ4                JM   \n",
       "4   ATX7CZYFXI1KW  patrice m rogoza   \n",
       "\n",
       "                                     summary  unixReviewTime  \n",
       "0                                 Looks Good      1400630400  \n",
       "1                      Really great product.      1389657600  \n",
       "2                             LOVE LOVE LOVE      1403740800  \n",
       "3                                      Cute!      1382313600  \n",
       "4  leopard home button sticker for iphone 4s      1359849600  "
      ]
     },
     "execution_count": 3,
     "metadata": {},
     "output_type": "execute_result"
    }
   ],
   "source": [
    "df.head()"
   ]
  },
  {
   "cell_type": "code",
   "execution_count": 6,
   "metadata": {},
   "outputs": [
    {
     "data": {
      "text/plain": [
       "'B005SUHPO6'"
      ]
     },
     "execution_count": 6,
     "metadata": {},
     "output_type": "execute_result"
    }
   ],
   "source": [
    "highest_review_nb = df['asin'].value_counts().index[0]\n",
    "highest_review_nb"
   ]
  },
  {
   "cell_type": "code",
   "execution_count": 7,
   "metadata": {},
   "outputs": [
    {
     "data": {
      "text/plain": [
       "(837, 9)"
      ]
     },
     "execution_count": 7,
     "metadata": {},
     "output_type": "execute_result"
    }
   ],
   "source": [
    "sub_df = df.loc[df['asin'] == highest_review_nb]\n",
    "sub_df.shape"
   ]
  },
  {
   "cell_type": "code",
   "execution_count": 8,
   "metadata": {},
   "outputs": [],
   "source": [
    "sub_json = sub_df.to_json(orient='records')\n",
    "f = open(os.path.join(path + highest_review_nb + '.json'), 'w')\n",
    "f.write(sub_json[1:-1])\n",
    "f.close()"
   ]
  },
  {
   "cell_type": "code",
   "execution_count": null,
   "metadata": {},
   "outputs": [],
   "source": []
  }
 ],
 "metadata": {
  "kernelspec": {
   "display_name": "Python 3",
   "language": "python",
   "name": "python3"
  },
  "language_info": {
   "codemirror_mode": {
    "name": "ipython",
    "version": 3
   },
   "file_extension": ".py",
   "mimetype": "text/x-python",
   "name": "python",
   "nbconvert_exporter": "python",
   "pygments_lexer": "ipython3",
   "version": "3.7.0"
  }
 },
 "nbformat": 4,
 "nbformat_minor": 2
}
