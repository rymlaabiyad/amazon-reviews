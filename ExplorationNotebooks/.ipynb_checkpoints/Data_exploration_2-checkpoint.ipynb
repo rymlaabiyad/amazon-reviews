{
 "cells": [
  {
   "cell_type": "code",
   "execution_count": 1,
   "metadata": {},
   "outputs": [],
   "source": [
    "import os\n",
    "import pandas as pd\n",
    "\n",
    "path = '../data/'"
   ]
  },
  {
   "cell_type": "code",
   "execution_count": 5,
   "metadata": {},
   "outputs": [
    {
     "name": "stdout",
     "output_type": "stream",
     "text": [
      "<class 'pandas.core.frame.DataFrame'>\n",
      "RangeIndex: 837 entries, 0 to 836\n",
      "Data columns (total 39 columns):\n",
      "asin              837 non-null object\n",
      "belt              837 non-null int64\n",
      "box               837 non-null int64\n",
      "bulky             837 non-null int64\n",
      "case              837 non-null int64\n",
      "clip              837 non-null int64\n",
      "color             837 non-null int64\n",
      "defender          837 non-null int64\n",
      "drop              837 non-null int64\n",
      "feel              837 non-null int64\n",
      "get               837 non-null int64\n",
      "helpful           837 non-null object\n",
      "iphone            837 non-null int64\n",
      "look              837 non-null int64\n",
      "month             837 non-null int64\n",
      "otterbox          837 non-null int64\n",
      "overall           837 non-null int64\n",
      "part              837 non-null int64\n",
      "phone             837 non-null int64\n",
      "pocket            837 non-null int64\n",
      "price             837 non-null int64\n",
      "product           837 non-null int64\n",
      "protection        837 non-null int64\n",
      "protector         837 non-null int64\n",
      "quality           837 non-null int64\n",
      "reviewText        837 non-null object\n",
      "reviewTime        837 non-null object\n",
      "reviewerID        837 non-null object\n",
      "reviewerName      836 non-null object\n",
      "rubber            837 non-null int64\n",
      "screen            837 non-null int64\n",
      "silicone          837 non-null int64\n",
      "summary           837 non-null object\n",
      "thing             837 non-null int64\n",
      "time              837 non-null int64\n",
      "unixReviewTime    837 non-null int64\n",
      "use               837 non-null int64\n",
      "work              837 non-null int64\n",
      "year              837 non-null int64\n",
      "dtypes: int64(32), object(7)\n",
      "memory usage: 255.1+ KB\n"
     ]
    }
   ],
   "source": [
    "df = pd.read_json(os.path.join(path + 'features.json'), lines=True)\n",
    "df.info()"
   ]
  },
  {
   "cell_type": "code",
   "execution_count": 7,
   "metadata": {},
   "outputs": [
    {
     "data": {
      "text/plain": [
       "asin                                                     B005SUHPO6\n",
       "belt                                                              0\n",
       "box                                                               0\n",
       "bulky                                                             0\n",
       "case                                                              0\n",
       "clip                                                              0\n",
       "color                                                             0\n",
       "defender                                                          0\n",
       "drop                                                              0\n",
       "feel                                                              0\n",
       "get                                                               0\n",
       "helpful                                                      [0, 0]\n",
       "iphone                                                            0\n",
       "look                                                              0\n",
       "month                                                             0\n",
       "otterbox                                                          0\n",
       "overall                                                           5\n",
       "part                                                              0\n",
       "phone                                                             0\n",
       "pocket                                                            0\n",
       "price                                                             1\n",
       "product                                                           0\n",
       "protection                                                        0\n",
       "protector                                                         0\n",
       "quality                                                           0\n",
       "reviewText        excellent product at 1/2 the price as sale at ...\n",
       "reviewTime                                              07 15, 2014\n",
       "reviewerID                                            AGWKQIBF6VNXB\n",
       "reviewerName                                                   None\n",
       "rubber                                                            1\n",
       "screen                                                            0\n",
       "silicone                                                          0\n",
       "summary                                                  Five Stars\n",
       "thing                                                             0\n",
       "time                                                              0\n",
       "unixReviewTime                                           1405382400\n",
       "use                                                               0\n",
       "work                                                              1\n",
       "year                                                              0\n",
       "Name: 0, dtype: object"
      ]
     },
     "execution_count": 7,
     "metadata": {},
     "output_type": "execute_result"
    }
   ],
   "source": [
    "df.iloc[0]"
   ]
  },
  {
   "cell_type": "code",
   "execution_count": null,
   "metadata": {},
   "outputs": [],
   "source": []
  }
 ],
 "metadata": {
  "kernelspec": {
   "display_name": "Python 3",
   "language": "python",
   "name": "python3"
  },
  "language_info": {
   "codemirror_mode": {
    "name": "ipython",
    "version": 3
   },
   "file_extension": ".py",
   "mimetype": "text/x-python",
   "name": "python",
   "nbconvert_exporter": "python",
   "pygments_lexer": "ipython3",
   "version": "3.7.0"
  }
 },
 "nbformat": 4,
 "nbformat_minor": 2
}
